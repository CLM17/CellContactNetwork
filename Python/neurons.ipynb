{
 "cells": [
  {
   "cell_type": "code",
   "execution_count": 118,
   "metadata": {},
   "outputs": [],
   "source": [
    "import numpy as np\n",
    "import os\n",
    "from skimage import io\n",
    "from skimage.filters.thresholding import threshold_li\n",
    "from scipy import ndimage\n",
    "from skimage import img_as_ubyte, img_as_uint\n",
    "from skimage.morphology import opening, closing, binary_dilation\n",
    "from skimage.morphology import disk\n",
    "from skimage.segmentation import watershed"
   ]
  },
  {
   "cell_type": "code",
   "execution_count": 6,
   "metadata": {},
   "outputs": [
    {
     "name": "stdout",
     "output_type": "stream",
     "text": [
      "Read the image\n"
     ]
    }
   ],
   "source": [
    "# Open image\n",
    "root = '..\\\\..\\\\Experiments\\\\WKS026\\\\test'\n",
    "well = 'D03'\n",
    "\n",
    "well_folder = os.path.join(root, well)\n",
    "img_path = os.path.join(well_folder, well + '_fused.tif')\n",
    "img = io.imread(img_path)\n",
    "print('Read the image')\n",
    "io.imshow(img)"
   ]
  },
  {
   "cell_type": "code",
   "execution_count": 20,
   "metadata": {
    "scrolled": true
   },
   "outputs": [
    {
     "data": {
      "text/plain": [
       "<matplotlib.image.AxesImage at 0x1a89487a080>"
      ]
     },
     "execution_count": 20,
     "metadata": {},
     "output_type": "execute_result"
    },
    {
     "data": {
      "image/png": "[encoded data removed]",
      "text/plain": [
       "<Figure size 432x288 with 2 Axes>"
      ]
     },
     "metadata": {
      "needs_background": "light"
     },
     "output_type": "display_data"
    }
   ],
   "source": [
    "# Split chanels\n",
    "atub = img[:,:,0] / np.max(img[:,:,0])\n",
    "mapk2 = img[:,:,1] / np.max(img[:,:,1])\n",
    "dapi = img[:,:,2] / np.max(img[:,:,2])"
   ]
  },
  {
   "cell_type": "code",
   "execution_count": 26,
   "metadata": {},
   "outputs": [],
   "source": [
    "# Apply Li thresholding\n",
    "th_atub = (atub > threshold_li(atub))\n",
    "th_mapk2 = (mapk2 > threshold_li(mapk2))\n",
    "th_dapi = (dapi > threshold_li(dapi))"
   ]
  },
  {
   "cell_type": "code",
   "execution_count": 62,
   "metadata": {},
   "outputs": [],
   "source": [
    "# Open MAPKII and DAPI channel\n",
    "op_mapk2 = opening(th_mapk2, selem=disk(2))\n",
    "valid_dapi = th_dapi * op_mapk2\n",
    "\n",
    "op_dapi = opening(valid_dapi, selem=disk(5))\n",
    "op_cl_dapi = closing(op_dapi, selem=disk(5))\n",
    "\n",
    "# Save results\n",
    "fname = os.path.join(well_folder, 'mapk2_opening.tif')\n",
    "io.imsave(fname, img_as_ubyte(op_mapk2))\n",
    "\n",
    "fname = os.path.join(well_folder, 'dapi_opening_closing.tif')\n",
    "io.imsave(fname, img_as_ubyte(op_cl_dapi))"
   ]
  },
  {
   "cell_type": "code",
   "execution_count": 65,
   "metadata": {},
   "outputs": [],
   "source": [
    "# Label all nuclei with a seperate integer\n",
    "lbl, n_obj = ndimage.label(op_cl_dapi)\n",
    "\n",
    "# find center of mass of labels\n",
    "com_list = ndimage.measurements.center_of_mass(op_cl_dapi, lbl, np.arange(1,n_obj+1))"
   ]
  },
  {
   "cell_type": "code",
   "execution_count": 128,
   "metadata": {},
   "outputs": [],
   "source": [
    "# Make markers at the centers of mass of nuclei\n",
    "N,M = op_cl_dapi.shape\n",
    "markers = np.zeros((N,M))\n",
    "\n",
    "i = 0\n",
    "for x,y in com_list:\n",
    "    i = i + 1\n",
    "    markers[int(x), int(y)] = i\n",
    "\n",
    "# Marker-conrolled watershed on MAPKII channel\n",
    "mapk2_labels = watershed(op_mapk2, markers=markers, mask=op_mapk2, watershed_line=True)\n",
    "\n",
    "# Save results\n",
    "fname = os.path.join(well_folder, 'mapk2_label.tif')\n",
    "io.imsave(fname, img_as_uint(mapk2_labels))\n",
    "\n",
    "fname = os.path.join(well_folder, 'markers.tif')\n",
    "io.imsave(fname, img_as_ubyte(markers))"
   ]
  },
  {
   "cell_type": "code",
   "execution_count": 109,
   "metadata": {},
   "outputs": [],
   "source": [
    "def grow(growing_seed, mask, selem_radius=5):\n",
    "    \n",
    "    new_growing_seed = binary_dilation(growing_seed, selem = disk(selem_radius))\n",
    "    new_growing_seed = np.logical_and(new_growing_seed, mask)\n",
    "    \n",
    "    return new_growing_seed"
   ]
  },
  {
   "cell_type": "code",
   "execution_count": 129,
   "metadata": {},
   "outputs": [
    {
     "name": "stdout",
     "output_type": "stream",
     "text": [
      "0\n",
      "1\n",
      "2\n",
      "3\n",
      "4\n",
      "5\n",
      "6\n",
      "7\n",
      "8\n",
      "9\n",
      "10\n",
      "11\n",
      "12\n",
      "13\n",
      "14\n",
      "15\n",
      "16\n",
      "17\n",
      "18\n",
      "19\n",
      "20\n",
      "21\n",
      "22\n",
      "23\n",
      "24\n",
      "25\n",
      "26\n",
      "27\n",
      "28\n",
      "29\n",
      "30\n",
      "31\n",
      "32\n",
      "33\n",
      "34\n",
      "35\n",
      "36\n",
      "37\n",
      "38\n",
      "39\n",
      "40\n",
      "41\n",
      "42\n",
      "43\n",
      "44\n",
      "45\n",
      "46\n",
      "47\n",
      "48\n",
      "49\n",
      "50\n",
      "51\n",
      "52\n",
      "53\n",
      "54\n",
      "55\n",
      "56\n",
      "57\n",
      "58\n",
      "59\n",
      "60\n",
      "61\n",
      "62\n",
      "63\n",
      "64\n",
      "65\n",
      "66\n",
      "67\n",
      "68\n",
      "69\n",
      "70\n",
      "71\n",
      "72\n",
      "73\n",
      "74\n",
      "75\n",
      "76\n",
      "77\n",
      "78\n",
      "79\n",
      "80\n",
      "81\n",
      "82\n",
      "83\n",
      "84\n",
      "85\n",
      "86\n",
      "87\n",
      "88\n",
      "89\n",
      "90\n",
      "91\n",
      "92\n",
      "93\n",
      "94\n",
      "95\n",
      "96\n",
      "97\n",
      "98\n",
      "99\n"
     ]
    },
    {
     "data": {
      "text/plain": [
       "<matplotlib.image.AxesImage at 0x1a895dc8ac8>"
      ]
     },
     "execution_count": 129,
     "metadata": {},
     "output_type": "execute_result"
    },
    {
     "data": {
      "image/png": "[encoded data removed]",
      "text/plain": [
       "<Figure size 432x288 with 2 Axes>"
      ]
     },
     "metadata": {
      "needs_background": "light"
     },
     "output_type": "display_data"
    }
   ],
   "source": [
    "growing_seed = np.zeros((N,M))\n",
    "new_growing_seed = np.zeros((N,M))\n",
    "\n",
    "i = 1\n",
    "x,y = com_list[i-1]\n",
    "new_growing_seed[int(x), int(y)] = 1\n",
    "\n",
    "other_mapk2_labels = mapk2_labels - i * (mapk2_labels == i)\n",
    "\n",
    "count = 0\n",
    "while not np.array_equal(growing_seed, new_growing_seed):\n",
    "\n",
    "    print(count)\n",
    "    growing_seed = new_growing_seed\n",
    "    new_growing_seed = grow(growing_seed, th_atub, selem_radius=10)\n",
    "    \n",
    "    if np.sum(new_growing_seed * other_mapk2_labels) > 0:\n",
    "        break\n",
    "    \n",
    "    count = count + 1\n",
    "    if count == 100:\n",
    "        break\n",
    "\n",
    "io.imshow(new_growing_seed)"
   ]
  },
  {
   "cell_type": "code",
   "execution_count": 130,
   "metadata": {},
   "outputs": [],
   "source": [
    "fname = os.path.join(well_folder, 'new_growing_seed.tif')\n",
    "io.imsave(fname, img_as_ubyte(new_growing_seed))"
   ]
  },
  {
   "cell_type": "code",
   "execution_count": 106,
   "metadata": {},
   "outputs": [
    {
     "data": {
      "text/plain": [
       "0"
      ]
     },
     "execution_count": 106,
     "metadata": {},
     "output_type": "execute_result"
    }
   ],
   "source": [
    "count"
   ]
  },
  {
   "cell_type": "code",
   "execution_count": 127,
   "metadata": {},
   "outputs": [
    {
     "data": {
      "text/plain": [
       "0"
      ]
     },
     "execution_count": 127,
     "metadata": {},
     "output_type": "execute_result"
    }
   ],
   "source": [
    "count"
   ]
  },
  {
   "cell_type": "code",
   "execution_count": null,
   "metadata": {},
   "outputs": [],
   "source": []
  }
 ],
 "metadata": {
  "kernelspec": {
   "display_name": "Python 3",
   "language": "python",
   "name": "python3"
  },
  "language_info": {
   "codemirror_mode": {
    "name": "ipython",
    "version": 3
   },
   "file_extension": ".py",
   "mimetype": "text/x-python",
   "name": "python",
   "nbconvert_exporter": "python",
   "pygments_lexer": "ipython3",
   "version": "3.5.6"
  }
 },
 "nbformat": 4,
 "nbformat_minor": 4
}
