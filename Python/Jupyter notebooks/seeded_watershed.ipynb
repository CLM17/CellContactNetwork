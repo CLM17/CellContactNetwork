{
 "cells": [
  {
   "cell_type": "code",
   "execution_count": 6,
   "metadata": {},
   "outputs": [],
   "source": [
    "import numpy as np\n",
    "from skimage import io\n",
    "from skimage.filters.thresholding import threshold_otsu, threshold_li, threshold_minimum, threshold_multiotsu, threshold_mean\n",
    "from skimage.morphology import binary_closing, binary_opening, binary_dilation, binary_erosion\n",
    "from skimage.draw import line, disk, circle_perimeter\n",
    "from skimage.segmentation import slic\n",
    "from skimage.segmentation import watershed\n",
    "from skimage import exposure\n",
    "\n",
    "from scipy import ndimage\n",
    "from scipy import sparse\n",
    "import matplotlib.pyplot as plt\n",
    "import os\n",
    "import pickle\n",
    "import math\n",
    "from numba import jit\n",
    "import pandas as pd\n",
    "import networkx as nx\n",
    "\n",
    "from timeit import default_timer as timer\n",
    "\n",
    "from skimage import img_as_ubyte, img_as_uint\n",
    "import skimage.io as io\n",
    "from skimage.filters import gaussian\n",
    "from skimage.feature import peak_local_max"
   ]
  },
  {
   "cell_type": "code",
   "execution_count": 2,
   "metadata": {},
   "outputs": [],
   "source": [
    "def get_well_locations(folder, well):\n",
    "    '''\n",
    "    This function extracts the locations of the well from the excel file.\n",
    "    '''\n",
    "    # Import Well locations.xlsx as pandas dataframe and extract the locations\n",
    "    well_locs_df = pd.read_excel( os.path.join(folder, 'Well locations.xlsx'), index_col=0 )\n",
    "    xc_well = int(well_locs_df['xc'][well])\n",
    "    yc_well = int(well_locs_df['yc'][well])\n",
    "    diameter_well = int(well_locs_df['diameter'][well])\n",
    "    \n",
    "    # Raise error if the information is not complete:\n",
    "    if np.any( np.isnan([xc_well, yc_well, diameter_well]) ):\n",
    "        raise NameError('The well locations are incomplete. Please update the excel file \"Well locations.xlsx\"')\n",
    "    \n",
    "    return xc_well, yc_well, diameter_well"
   ]
  },
  {
   "cell_type": "code",
   "execution_count": 3,
   "metadata": {},
   "outputs": [],
   "source": [
    "def get_image(folder, well, xc_well, yc_well, diameter_well):\n",
    "    '''\n",
    "    This function reads the (stitched) image in folder specified by 'well'.\n",
    "    It excludes all pixels of the image outside the circle with center (xc_well, yc_well) and diameter diameter_well.\n",
    "    '''\n",
    "    # Read the image:\n",
    "    img = io.imread( os.path.join( folder, well+'_fused.tif') )\n",
    "    # Create new black image with the same size:\n",
    "    new_img = np.zeros(img.shape)\n",
    "    # Fill the new image with the input image inside the well\n",
    "    rr, cc = disk((yc_well, xc_well), int(diameter_well / 2))\n",
    "    new_img[rr,cc,:] = img[rr,cc,:]\n",
    "    return new_img"
   ]
  },
  {
   "cell_type": "code",
   "execution_count": 4,
   "metadata": {},
   "outputs": [],
   "source": [
    "def find_nuclei_com(img, N):\n",
    "    '''\n",
    "    Function finds the center of mass (COM) of nuclei.\n",
    "    Input: img = a grayscale image of DAPI channel, N = size of structuring element used for opening the image.\n",
    "    Output: com = array with centers of mass, lbl = labels of objects.\n",
    "    '''\n",
    "\n",
    "    # Apply Otsu thresholding\n",
    "    threshold = threshold_otsu(img)\n",
    "    binary = img > threshold\n",
    "\n",
    "    # Open the image with a N x N structuring element and label result\n",
    "    opened = binary_opening(binary, selem=np.ones([N,N]))\n",
    "    lbl, n_obj = ndimage.label(opened)\n",
    "\n",
    "    # find center of mass of labels\n",
    "    com_list = ndimage.measurements.center_of_mass(opened, lbl, np.arange(1,n_obj+1))\n",
    "    \n",
    "    # store the coms in a numpy array (is compatible with numba)\n",
    "    com = np.zeros((len(com_list), 3))\n",
    "    for i in range(len(com)):\n",
    "        com[i,:] = [ int(i+1), com_list[i][0], com_list[i][1] ]\n",
    "    \n",
    "    return com, lbl"
   ]
  },
  {
   "cell_type": "code",
   "execution_count": 5,
   "metadata": {},
   "outputs": [],
   "source": [
    "def distance_transform_watershed(th, connectivity=np.ones((3,3)), sigma=1, min_distance=10):\n",
    "    '''\n",
    "    This function segments all cells in a mask with a distance transform watershed.\n",
    "    Th is a thresholded (binary) image.\n",
    "    Sigma is the sigma used for smoothing the distance transform.\n",
    "    Min_distance is the minimal distance between two cell centers in pixels.\n",
    "    '''\n",
    "    dist = ndimage.distance_transform_edt(th)\n",
    "    dist_smooth = gaussian(dist, sigma=1)\n",
    "\n",
    "    local_maxi = peak_local_max(dist_smooth, threshold_abs=0, min_distance=min_distance, indices=False)\n",
    "\n",
    "    markers = ndimage.label(local_maxi)[0]\n",
    "    \n",
    "    connectivity = np.ones((3,3))\n",
    "    labels = watershed(dist_smooth, markers, connectivity=connectivity, mask=th, watershed_line=True)\n",
    "    \n",
    "    return labels, markers"
   ]
  },
  {
   "cell_type": "code",
   "execution_count": 6,
   "metadata": {},
   "outputs": [],
   "source": [
    "def make_markers(com, N, M):\n",
    "    '''\n",
    "    Function loops over the locations of the centers of mass of nuclei.\n",
    "    It outputs an NxM image markers with white pixels on the COM locations.\n",
    "    '''\n",
    "    markers = np.zeros((N, M))\n",
    "    for i,x,y in com:\n",
    "        markers[int(x)-1, int(y)-1] = i\n",
    "    \n",
    "    return markers"
   ]
  },
  {
   "cell_type": "code",
   "execution_count": 7,
   "metadata": {
    "scrolled": false
   },
   "outputs": [],
   "source": [
    "def seeded_watershed(img, markers):\n",
    "    '''\n",
    "    Function labels individual cells in MEMBRITE channel with the seeded watershed algorithm.\n",
    "    It first performs a histogram equalization and minimum thresholding.\n",
    "    \n",
    "    Input: \n",
    "        img: 2D image of membrite channel.\n",
    "        makers: image of same dimensions as img with seeds.\n",
    "    Output: labeled image.\n",
    "    '''\n",
    "    #img_eq = exposure.equalize_hist(img)\n",
    "    img_eq = img\n",
    "    threshold = threshold_mean(img_eq)\n",
    "    binary = img_eq > threshold\n",
    "    wts = watershed(binary, markers=markers, mask=binary, watershed_line=False)\n",
    "    \n",
    "    return wts"
   ]
  },
  {
   "cell_type": "code",
   "execution_count": 14,
   "metadata": {
    "scrolled": true
   },
   "outputs": [],
   "source": [
    "@jit(nopython=True) # compile to C++ for faster performance\n",
    "def find_network(wts, connectivity=8):\n",
    "    '''\n",
    "    Function finds which cells are connected to each other.\n",
    "    \n",
    "    Input:\n",
    "        com = a list of tuples indicating the locations of the centers of mass of nuclei (row, colum).\n",
    "        wts = watershed-labeled MEMBRITE image.\n",
    "    \n",
    "    Output:\n",
    "        network = a dictionary with the cell number as key and a list as value.\n",
    "        The first item in value is a tuple indicating the center of mass of the cell's nucleus (row, column).\n",
    "        The other items in value are the cell numbers of the cells connected to the key cell.  \n",
    "    '''\n",
    "    \n",
    "    # Define structuring element:\n",
    "    selem = np.ones((2,2))\n",
    "    if connectivity == 4:\n",
    "        selem[0,0] = 0\n",
    "    \n",
    "    # Initialize network dict with COM locations:\n",
    "    N,M = wts.shape\n",
    "    num_cells = np.max(wts)\n",
    "    network = np.zeros((num_cells, num_cells))\n",
    "        \n",
    "    # Loop through the pixels in the image:\n",
    "    c = 0\n",
    "    for y in np.arange(1,N):\n",
    "        for x in np.arange(1,M):\n",
    "            \n",
    "            # Get neighborhood (2x2 structuring element) and center pixel\n",
    "            nbh = wts[y-1:y+1, x-1:x+1]\n",
    "            prod = selem * nbh\n",
    "            center = int(prod[1,1])\n",
    "\n",
    "            if center > 0: # if the center pixel belongs to an object\n",
    "\n",
    "                north = int(prod[0,1]) # pixel above center pixel\n",
    "                west = int(prod[1,0])  # pixel left of center pixel\n",
    "                northwest = int(prod[0,0])\n",
    "\n",
    "                if north > 0 and center != north:\n",
    "                    network[center-1, north-1] = 1 # center is connected to the object above it\n",
    "                    network[north-1, center-1] = 1                       \n",
    "\n",
    "                if west > 0 and center != west:\n",
    "                    network[center-1, west-1] = 1 # center is connected to the object left of it\n",
    "                    network[west-1, center-1] = 1\n",
    "                    \n",
    "                if northwest > 0 and center != west:\n",
    "                    network[center-1, northwest-1] = 1 # center is connected to the object left above of it\n",
    "                    network[northwest-1, northwest-1] = 1\n",
    "                    \n",
    "    return network"
   ]
  },
  {
   "cell_type": "code",
   "execution_count": 9,
   "metadata": {},
   "outputs": [],
   "source": [
    "def matrix_to_graph(matrix, com):\n",
    "    '''\n",
    "    Function converts the network matrix to a dictionary\n",
    "    Input:\n",
    "        matrix: a sparse matrix indicating the network\n",
    "        com: numpy array with locations of centers of mass\n",
    "    Output: dictionary with network\n",
    "    '''\n",
    "    G = nx.Graph()\n",
    "    \n",
    "    for row in com:\n",
    "        i = int(row[0])\n",
    "        com_pos = tuple(row[1:])\n",
    "        G.add_node(i, pos=com_pos)\n",
    "    \n",
    "    i_array, j_array = matrix.nonzero()\n",
    "    for i,j in zip(i_array, j_array):\n",
    "        if (i+1,j+1) not in G.edges:\n",
    "            G.add_edge(i+1, j+1)\n",
    "                \n",
    "    return G"
   ]
  },
  {
   "cell_type": "code",
   "execution_count": 10,
   "metadata": {},
   "outputs": [],
   "source": [
    "def list_nodes_on_edge(wts, xc_well, yc_well, diameter_well):\n",
    "    '''\n",
    "    This function takes as input a network dictionary and the corresponding\n",
    "    watershed-segmented image.\n",
    "    It then makes a list of all cells that are on the edge.\n",
    "    \n",
    "    Input: \n",
    "        G = network graph\n",
    "        wts = watershedded image.\n",
    "        xc_well, yc_well, diameter_well: specifications of well position\n",
    "        \n",
    "    Output:\n",
    "        on_edge: list of cells that touch the edge.\n",
    "    '''\n",
    "    \n",
    "    rr_on_edge, cc_on_edge = circle_perimeter(yc_well, xc_well, int(diameter_well / 2))\n",
    "    on_edge = []\n",
    "    \n",
    "    # Loop over the edges of the image, and keep track\n",
    "    # of objects on the edge: \n",
    "    for r, c in zip(rr_on_edge, cc_on_edge):\n",
    "        if wts[r,c] > 0 and wts[r,c] not in on_edge:\n",
    "            on_edge.append(wts[r,c])\n",
    "    \n",
    "    return on_edge"
   ]
  },
  {
   "cell_type": "code",
   "execution_count": 11,
   "metadata": {
    "scrolled": true
   },
   "outputs": [],
   "source": [
    "def draw_network(G, img_DAPI, img_MEMBRITE):\n",
    "    '''\n",
    "    Function draws the network as nodes and edges on the image.\n",
    "    '''\n",
    "    # Create RGB output image:\n",
    "    N,M = img_DAPI.shape\n",
    "    output = np.zeros((N,M,3))\n",
    "    output[:,:,0] = img_MEMBRITE / np.max(img_MEMBRITE) # membrite is RED channel\n",
    "    output[:,:,2] = img_DAPI / np.max(img_DAPI)         # DAPI is BLUE channel\n",
    "    \n",
    "    radius = 5 # size of nodes (DAPI COM)\n",
    "    pos = nx.get_node_attributes(G,'pos')\n",
    "\n",
    "    # Loop over nodes:\n",
    "    for node, loc in pos.items():\n",
    "        r,c = loc\n",
    "        # get indices of the circle\n",
    "        rr, cc = disk((r, c), radius)\n",
    "        # make sure the indices are not larger than the image edge\n",
    "        rr = np.minimum(N-1, rr)\n",
    "        cc = np.minimum(M-1, cc)\n",
    "        \n",
    "        # Draw node as white circles:\n",
    "        output[rr, cc, :] = [1, 1, 1]\n",
    "\n",
    "    # Loop over edges:\n",
    "    for edge in G.edges:\n",
    "        i,j = edge\n",
    "        ri, ci = pos[i]\n",
    "        rj, cj = pos[j]\n",
    "        rr, cc = line(int(ri),int(ci), int(rj),int(cj))\n",
    "\n",
    "        # Draw edge as while line:\n",
    "        output[rr, cc, :] = [1, 1, 1]\n",
    "\n",
    "    return output"
   ]
  },
  {
   "cell_type": "code",
   "execution_count": 18,
   "metadata": {},
   "outputs": [],
   "source": [
    "def create_HELA_network(folder, well):\n",
    "    '''\n",
    "    This function finds the network of the well.\n",
    "    '''\n",
    "    #initialize progress bar\n",
    "    bar = Bar('Creating the network:', max=8)\n",
    "    well_folder = os.path.join(folder, 'well '+well)\n",
    "    \n",
    "    xc_well, yc_well, diameter_well = get_well_locations(folder, well)\n",
    "    full_img = get_image(well_folder, well, xc_well, yc_well, diameter_well)\n",
    "    bar.next()\n",
    "\n",
    "    ch_DAPI = full_img[:,:,2] / np.max(full_img[:,:,2])\n",
    "    ch_MEM = full_img[:,:,0] / np.max(full_img[:,:,0])\n",
    "    bar.next() #1\n",
    "\n",
    "    N_selem = 5 # size of structuring element for opening + closing\n",
    "    N, M = ch_DAPI.shape\n",
    "\n",
    "    # Find the DAPI centers of mass and the labeled image\n",
    "    com, lbl_DAPI = find_nuclei_com(ch_DAPI, N_selem)\n",
    "    bar.next() #2\n",
    "\n",
    "    # Make markers for seeded watershed\n",
    "    markers = make_markers(com, N, M)\n",
    "    bar.next() #3\n",
    "\n",
    "    # Perfrom seeded watershed\n",
    "    wts = seeded_watershed(ch_MEM, markers)\n",
    "    bar.next() #4\n",
    "\n",
    "    # Find the network with connected component labeling\n",
    "    contact_matrix = find_network(wts)\n",
    "    bar.next() #5\n",
    "\n",
    "    # Convert matrix to dictionary and create the output img\n",
    "    G = matrix_to_graph(sparse.lil_matrix(contact_matrix), com)\n",
    "    on_edge = list_nodes_on_edge(wts, xc_well, yc_well, diameter_well)\n",
    "    bar.next() #6\n",
    "\n",
    "    output_img = draw_network(G, ch_DAPI, ch_MEM)\n",
    "    bar.next() #7\n",
    "\n",
    "    io.imsave( os.path.join(well_folder,well+'_network.png'), img_as_ubyte(output_img) )\n",
    "    io.imsave( os.path.join(well_folder,well+'_watershed.png'), img_as_uint(wts) )\n",
    "    bar.finish()\n",
    "    \n",
    "    return contact_matrix, G, on_edge"
   ]
  },
  {
   "cell_type": "code",
   "execution_count": 19,
   "metadata": {
    "scrolled": true
   },
   "outputs": [
    {
     "name": "stderr",
     "output_type": "stream",
     "text": [
      "C:\\Users\\LocalAdmin\\anaconda3\\envs\\myenv\\lib\\site-packages\\skimage\\util\\dtype.py:476: UserWarning: Downcasting int32 to uint16 without scaling because max value 26349 fits in uint16\n",
      "  return _convert(image, np.uint16, force_copy)\n"
     ]
    },
    {
     "name": "stdout",
     "output_type": "stream",
     "text": [
      "Total runtime is  197.5821671000001\n"
     ]
    }
   ],
   "source": [
    "start = timer()\n",
    "\n",
    "well = 'B03'\n",
    "folder = 'Data/WKS023/2020-09-09'\n",
    "\n",
    "contact_matrix, G, on_edge = create_HELA_network(folder, well)\n",
    "\n",
    "print('Total runtime is ', timer()-start)"
   ]
  },
  {
   "cell_type": "code",
   "execution_count": 20,
   "metadata": {},
   "outputs": [
    {
     "data": {
      "text/plain": [
       "Text(0, 0.5, 'Frequency')"
      ]
     },
     "execution_count": 20,
     "metadata": {},
     "output_type": "execute_result"
    },
    {
     "data": {
      "image/png": "[encoded data removed]",
      "text/plain": [
       "<Figure size 432x288 with 1 Axes>"
      ]
     },
     "metadata": {
      "needs_background": "light"
     },
     "output_type": "display_data"
    }
   ],
   "source": [
    "h1 = plt.hist(dict(nx.degree(G)).values(),10)\n",
    "plt.xlabel('Degree')\n",
    "plt.ylabel('Frequency')"
   ]
  },
  {
   "cell_type": "code",
   "execution_count": 24,
   "metadata": {},
   "outputs": [
    {
     "ename": "KeyboardInterrupt",
     "evalue": "",
     "output_type": "error",
     "traceback": [
      "\u001b[1;31m---------------------------------------------------------------------------\u001b[0m",
      "\u001b[1;31mKeyboardInterrupt\u001b[0m                         Traceback (most recent call last)",
      "\u001b[1;32m<ipython-input-24-94027dfac288>\u001b[0m in \u001b[0;36m<module>\u001b[1;34m\u001b[0m\n\u001b[0;32m      1\u001b[0m \u001b[0mcc\u001b[0m \u001b[1;33m=\u001b[0m \u001b[1;33m[\u001b[0m\u001b[1;33m]\u001b[0m\u001b[1;33m\u001b[0m\u001b[1;33m\u001b[0m\u001b[0m\n\u001b[0;32m      2\u001b[0m \u001b[1;32mfor\u001b[0m \u001b[0mnode\u001b[0m \u001b[1;32min\u001b[0m \u001b[0mG\u001b[0m\u001b[1;33m.\u001b[0m\u001b[0mnodes\u001b[0m\u001b[1;33m:\u001b[0m\u001b[1;33m\u001b[0m\u001b[1;33m\u001b[0m\u001b[0m\n\u001b[1;32m----> 3\u001b[1;33m     \u001b[0mcc\u001b[0m\u001b[1;33m.\u001b[0m\u001b[0mappend\u001b[0m\u001b[1;33m(\u001b[0m\u001b[0mnx\u001b[0m\u001b[1;33m.\u001b[0m\u001b[0mcloseness_centrality\u001b[0m\u001b[1;33m(\u001b[0m\u001b[0mG\u001b[0m\u001b[1;33m,\u001b[0m\u001b[0mu\u001b[0m\u001b[1;33m=\u001b[0m\u001b[0mnode\u001b[0m\u001b[1;33m)\u001b[0m\u001b[1;33m)\u001b[0m\u001b[1;33m\u001b[0m\u001b[1;33m\u001b[0m\u001b[0m\n\u001b[0m",
      "\u001b[1;32m~\\anaconda3\\envs\\myenv\\lib\\site-packages\\networkx\\algorithms\\centrality\\closeness.py\u001b[0m in \u001b[0;36mcloseness_centrality\u001b[1;34m(G, u, distance, wf_improved)\u001b[0m\n\u001b[0;32m    111\u001b[0m     \u001b[0mcloseness_centrality\u001b[0m \u001b[1;33m=\u001b[0m \u001b[1;33m{\u001b[0m\u001b[1;33m}\u001b[0m\u001b[1;33m\u001b[0m\u001b[1;33m\u001b[0m\u001b[0m\n\u001b[0;32m    112\u001b[0m     \u001b[1;32mfor\u001b[0m \u001b[0mn\u001b[0m \u001b[1;32min\u001b[0m \u001b[0mnodes\u001b[0m\u001b[1;33m:\u001b[0m\u001b[1;33m\u001b[0m\u001b[1;33m\u001b[0m\u001b[0m\n\u001b[1;32m--> 113\u001b[1;33m         \u001b[0msp\u001b[0m \u001b[1;33m=\u001b[0m \u001b[0mpath_length\u001b[0m\u001b[1;33m(\u001b[0m\u001b[0mG\u001b[0m\u001b[1;33m,\u001b[0m \u001b[0mn\u001b[0m\u001b[1;33m)\u001b[0m\u001b[1;33m\u001b[0m\u001b[1;33m\u001b[0m\u001b[0m\n\u001b[0m\u001b[0;32m    114\u001b[0m         \u001b[0mtotsp\u001b[0m \u001b[1;33m=\u001b[0m \u001b[0msum\u001b[0m\u001b[1;33m(\u001b[0m\u001b[0msp\u001b[0m\u001b[1;33m.\u001b[0m\u001b[0mvalues\u001b[0m\u001b[1;33m(\u001b[0m\u001b[1;33m)\u001b[0m\u001b[1;33m)\u001b[0m\u001b[1;33m\u001b[0m\u001b[1;33m\u001b[0m\u001b[0m\n\u001b[0;32m    115\u001b[0m         \u001b[0mlen_G\u001b[0m \u001b[1;33m=\u001b[0m \u001b[0mlen\u001b[0m\u001b[1;33m(\u001b[0m\u001b[0mG\u001b[0m\u001b[1;33m)\u001b[0m\u001b[1;33m\u001b[0m\u001b[1;33m\u001b[0m\u001b[0m\n",
      "\u001b[1;32m~\\anaconda3\\envs\\myenv\\lib\\site-packages\\networkx\\algorithms\\shortest_paths\\unweighted.py\u001b[0m in \u001b[0;36msingle_source_shortest_path_length\u001b[1;34m(G, source, cutoff)\u001b[0m\n\u001b[0;32m     57\u001b[0m         \u001b[0mcutoff\u001b[0m \u001b[1;33m=\u001b[0m \u001b[0mfloat\u001b[0m\u001b[1;33m(\u001b[0m\u001b[1;34m\"inf\"\u001b[0m\u001b[1;33m)\u001b[0m\u001b[1;33m\u001b[0m\u001b[1;33m\u001b[0m\u001b[0m\n\u001b[0;32m     58\u001b[0m     \u001b[0mnextlevel\u001b[0m \u001b[1;33m=\u001b[0m \u001b[1;33m{\u001b[0m\u001b[0msource\u001b[0m\u001b[1;33m:\u001b[0m \u001b[1;36m1\u001b[0m\u001b[1;33m}\u001b[0m\u001b[1;33m\u001b[0m\u001b[1;33m\u001b[0m\u001b[0m\n\u001b[1;32m---> 59\u001b[1;33m     \u001b[1;32mreturn\u001b[0m \u001b[0mdict\u001b[0m\u001b[1;33m(\u001b[0m\u001b[0m_single_shortest_path_length\u001b[0m\u001b[1;33m(\u001b[0m\u001b[0mG\u001b[0m\u001b[1;33m.\u001b[0m\u001b[0madj\u001b[0m\u001b[1;33m,\u001b[0m \u001b[0mnextlevel\u001b[0m\u001b[1;33m,\u001b[0m \u001b[0mcutoff\u001b[0m\u001b[1;33m)\u001b[0m\u001b[1;33m)\u001b[0m\u001b[1;33m\u001b[0m\u001b[1;33m\u001b[0m\u001b[0m\n\u001b[0m\u001b[0;32m     60\u001b[0m \u001b[1;33m\u001b[0m\u001b[0m\n\u001b[0;32m     61\u001b[0m \u001b[1;33m\u001b[0m\u001b[0m\n",
      "\u001b[1;32m~\\anaconda3\\envs\\myenv\\lib\\site-packages\\networkx\\algorithms\\shortest_paths\\unweighted.py\u001b[0m in \u001b[0;36m_single_shortest_path_length\u001b[1;34m(adj, firstlevel, cutoff)\u001b[0m\n\u001b[0;32m     89\u001b[0m             \u001b[1;32mreturn\u001b[0m\u001b[1;33m\u001b[0m\u001b[1;33m\u001b[0m\u001b[0m\n\u001b[0;32m     90\u001b[0m         \u001b[1;32mfor\u001b[0m \u001b[0mv\u001b[0m \u001b[1;32min\u001b[0m \u001b[0mfound\u001b[0m\u001b[1;33m:\u001b[0m\u001b[1;33m\u001b[0m\u001b[1;33m\u001b[0m\u001b[0m\n\u001b[1;32m---> 91\u001b[1;33m             \u001b[0mnextlevel\u001b[0m\u001b[1;33m.\u001b[0m\u001b[0mupdate\u001b[0m\u001b[1;33m(\u001b[0m\u001b[0madj\u001b[0m\u001b[1;33m[\u001b[0m\u001b[0mv\u001b[0m\u001b[1;33m]\u001b[0m\u001b[1;33m)\u001b[0m\u001b[1;33m\u001b[0m\u001b[1;33m\u001b[0m\u001b[0m\n\u001b[0m\u001b[0;32m     92\u001b[0m         \u001b[0mlevel\u001b[0m \u001b[1;33m+=\u001b[0m \u001b[1;36m1\u001b[0m\u001b[1;33m\u001b[0m\u001b[1;33m\u001b[0m\u001b[0m\n\u001b[0;32m     93\u001b[0m     \u001b[1;32mdel\u001b[0m \u001b[0mseen\u001b[0m\u001b[1;33m\u001b[0m\u001b[1;33m\u001b[0m\u001b[0m\n",
      "\u001b[1;31mKeyboardInterrupt\u001b[0m: "
     ]
    }
   ],
   "source": [
    "cc = []\n",
    "for node in G.nodes:\n",
    "    cc.append(nx.closeness_centrality(G,u=node))"
   ]
  },
  {
   "cell_type": "code",
   "execution_count": null,
   "metadata": {},
   "outputs": [],
   "source": []
  }
 ],
 "metadata": {
  "kernelspec": {
   "display_name": "Python 3",
   "language": "python",
   "name": "python3"
  },
  "language_info": {
   "codemirror_mode": {
    "name": "ipython",
    "version": 3
   },
   "file_extension": ".py",
   "mimetype": "text/x-python",
   "name": "python",
   "nbconvert_exporter": "python",
   "pygments_lexer": "ipython3",
   "version": "3.8.5"
  }
 },
 "nbformat": 4,
 "nbformat_minor": 4
}
