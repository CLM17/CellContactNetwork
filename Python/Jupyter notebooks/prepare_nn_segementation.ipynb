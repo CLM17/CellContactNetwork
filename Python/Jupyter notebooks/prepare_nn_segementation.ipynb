{
 "cells": [
  {
   "cell_type": "code",
   "execution_count": 1,
   "metadata": {},
   "outputs": [
    {
     "name": "stderr",
     "output_type": "stream",
     "text": [
      "C:\\Users\\clmvandenheuve\\Anaconda3\\envs\\tenv\\lib\\site-packages\\h5py\\__init__.py:36: FutureWarning: Conversion of the second argument of issubdtype from `float` to `np.floating` is deprecated. In future, it will be treated as `np.float64 == np.dtype(float).type`.\n",
      "  from ._conv import register_converters as _register_converters\n",
      "Using TensorFlow backend.\n"
     ]
    }
   ],
   "source": [
    "import numpy as np\n",
    "import os\n",
    "from skimage import io\n",
    "from unet_master.model import *\n",
    "from unet_master.data import *"
   ]
  },
  {
   "cell_type": "code",
   "execution_count": 2,
   "metadata": {},
   "outputs": [],
   "source": [
    "def crop_img(P, w, ol):\n",
    "    '''\n",
    "    This function find the limits of an image dimension s.t. tiles fit inside it.\n",
    "    The operation is done for one dimension only.\n",
    "    P = number of pixels of the input image, in one dimension.\n",
    "    w = width of tile (e.g. 512).\n",
    "    ol = overlap of tiles (e.g. 100 pixels)\n",
    "    '''\n",
    "    \n",
    "    numtiles = (P - w) / (w - ol)\n",
    "    numtiles_rounded = np.floor(numtiles)\n",
    "    \n",
    "    num_included = numtiles_rounded * (w - ol) + w \n",
    "    num_cropped = P - num_included\n",
    "    \n",
    "    # Notify the user if more than 25 pixels are cropped on both sides:\n",
    "    if num_cropped > 50:\n",
    "        print(\"WARNING: You are losing more than 25 pixels on both sides of the image.\\n Check your image afterwards to see if it still contains the whole well.\\n\")    \n",
    "    \n",
    "    # calculate margins (min and max)\n",
    "    m_min = np.floor(num_cropped / 2)\n",
    "    m_max = num_cropped - m_min\n",
    "    \n",
    "    min_ = int(m_min)\n",
    "    max_ = int(P - m_max)\n",
    "    \n",
    "    return min_, max_, numtiles_rounded+1"
   ]
  },
  {
   "cell_type": "code",
   "execution_count": 3,
   "metadata": {},
   "outputs": [],
   "source": [
    "def create_tiles(cropped_ch, xnumtiles, ynumtiles, w, ol):\n",
    "    '''\n",
    "    Create tiles with overlap.\n",
    "    '''\n",
    "    xtile_positions = np.arange(0, xnumtiles) * (w - ol)\n",
    "    ytile_positions = np.arange(0, ynumtiles) * (w - ol)\n",
    "    \n",
    "    tiles = []\n",
    "    for x in xtile_positions:\n",
    "        for y in ytile_positions:\n",
    "            x = int(x)\n",
    "            y = int(y)\n",
    "            tiles.append(cropped_ch[y:y+512, x:x+512])\n",
    "            \n",
    "    return tiles"
   ]
  },
  {
   "cell_type": "code",
   "execution_count": 4,
   "metadata": {},
   "outputs": [
    {
     "name": "stdout",
     "output_type": "stream",
     "text": [
      "Read the image\n"
     ]
    }
   ],
   "source": [
    "# Create tiles\n",
    "w = 512\n",
    "ol = 100\n",
    "root = 'Data\\\\WKS023\\\\2020-09-09'\n",
    "well = 'B03'\n",
    "\n",
    "well_folder = os.path.join(root, 'well '+well)\n",
    "img_path = os.path.join(well_folder, well + '_fused.tif')\n",
    "img = io.imread(img_path)\n",
    "print('Read the image')\n",
    "\n",
    "ch_MEM = img[:,:,0] / np.max(img[:,:,0])\n",
    "ch_DAPI = img[:,:,2] / np.max(img[:,:,2])\n",
    "\n",
    "N,M = ch_MEM.shape\n",
    "\n",
    "xmin, xmax, xnumtiles = crop_img(M, w, ol)\n",
    "ymin, ymax, ynumtiles = crop_img(N, w, ol)\n",
    "cr_MEM = ch_MEM[ymin:ymax, xmin:xmax]\n",
    "tiles = create_tiles(cr_MEM, xnumtiles, ynumtiles, w, ol)"
   ]
  },
  {
   "cell_type": "code",
   "execution_count": 5,
   "metadata": {},
   "outputs": [],
   "source": [
    "# get model\n",
    "model_name = '20201002_hela_s1e300b2.hdf5'\n",
    "model_path = os.path.join('unet_master', model_name)\n",
    "num_test_images = len(tiles)"
   ]
  },
  {
   "cell_type": "code",
   "execution_count": 6,
   "metadata": {},
   "outputs": [
    {
     "name": "stderr",
     "output_type": "stream",
     "text": [
      "N:\\tnw\\BN\\dm\\Shared\\Lukas\\Lukas vd Heuvel\\unet_master\\model.py:55: UserWarning: Update your `Model` call to the Keras 2 API: `Model(outputs=Tensor(\"co..., inputs=Tensor(\"in...)`\n",
      "  model = Model(input = inputs, output = conv10)\n",
      "C:\\Users\\clmvandenheuve\\Anaconda3\\envs\\tenv\\lib\\site-packages\\skimage\\transform\\_warps.py:105: UserWarning: The default mode, 'constant', will be changed to 'reflect' in skimage 0.15.\n",
      "  warn(\"The default mode, 'constant', will be changed to 'reflect' in \"\n",
      "C:\\Users\\clmvandenheuve\\Anaconda3\\envs\\tenv\\lib\\site-packages\\skimage\\transform\\_warps.py:110: UserWarning: Anti-aliasing will be enabled by default in skimage 0.15 to avoid aliasing artifacts when down-sampling images.\n",
      "  warn(\"Anti-aliasing will be enabled by default in skimage 0.15 to \"\n"
     ]
    },
    {
     "name": "stdout",
     "output_type": "stream",
     "text": [
      "441/441 [==============================] - 32s 74ms/step\n"
     ]
    }
   ],
   "source": [
    "# predict the tiles\n",
    "model = unet(pretrained_weights = model_path)\n",
    "testGene = predictGenerator(tiles)\n",
    "results = model.predict_generator(testGene, num_test_images, verbose=1)\n",
    "#saveResult(predict_path, results)"
   ]
  },
  {
   "cell_type": "code",
   "execution_count": 7,
   "metadata": {},
   "outputs": [],
   "source": [
    "# combine predicted tiles into cols\n",
    "\n",
    "rg = np.linspace(0,1,ol).reshape(ol,1)\n",
    "vert_combiner_bottom = np.vstack( (np.matlib.repmat(rg,1,w), np.ones((w-ol, w))) )\n",
    "vert_combiner_top = np.vstack( ( np.ones((w-ol, w)), np.matlib.repmat(np.flipud(rg),1,w)) )\n",
    "vert_combiner_center = np.vstack( ( (np.matlib.repmat(rg,1,w), np.ones((w-2*ol, w)), np.matlib.repmat(np.flipud(rg),1,w)) ) )\n",
    "\n",
    "xtile_positions = np.arange(0, xnumtiles) * (w - ol)\n",
    "ytile_positions = np.arange(0, ynumtiles) * (w - ol)\n",
    "\n",
    "Ncr, Mcr = cr_MEM.shape\n",
    "col_list = []\n",
    "c = 0\n",
    "for x in xtile_positions:\n",
    "    col = np.zeros((Ncr, 512))\n",
    "    for y in ytile_positions:\n",
    "        x = int(x)\n",
    "        y = int(y)\n",
    "        \n",
    "        pred = results[c].reshape(w,w)\n",
    "        pred = pred / np.max(pred)\n",
    "        nbh = col[y:y+w,:]\n",
    "        if y==0:\n",
    "            nbh = nbh + vert_combiner_top * pred\n",
    "        elif y==ytile_positions[-1]:\n",
    "            nbh = nbh + vert_combiner_bottom * pred\n",
    "        else:\n",
    "            nbh = nbh + vert_combiner_center * pred\n",
    "            \n",
    "        col[y:y+w,:] = nbh\n",
    "        c = c + 1\n",
    "            \n",
    "    col_list.append(col)\n"
   ]
  },
  {
   "cell_type": "code",
   "execution_count": 8,
   "metadata": {},
   "outputs": [],
   "source": [
    "# combine cols into full image\n",
    "\n",
    "rg = np.linspace(0,1,ol).reshape(1,ol)\n",
    "hor_combiner_right = np.hstack( (np.matlib.repmat(rg,Ncr,1), np.ones((Ncr, w-ol))) )\n",
    "hor_combiner_left = np.hstack( (np.ones((Ncr, w-ol)), np.matlib.repmat(np.fliplr(rg),Ncr,1)) )\n",
    "hor_combiner_center = np.hstack( (np.matlib.repmat(rg,Ncr,1), np.ones((Ncr, w-2*ol)), np.matlib.repmat(np.fliplr(rg),Ncr,1)) )\n",
    "\n",
    "pred_MEM = np.zeros((Ncr,Mcr))\n",
    "c = int(0)\n",
    "for x in xtile_positions:\n",
    "    x = int(x)\n",
    "    nbh = pred_MEM[:,x:x+w]\n",
    "    if x==0:\n",
    "        nbh = nbh + hor_combiner_left*col_list[c]\n",
    "    elif x==xtile_positions[-1]:\n",
    "        nbh = nbh + hor_combiner_right*col_list[c]\n",
    "    else:\n",
    "        nbh = nbh + hor_combiner_center*col_list[c]\n",
    "    pred_MEM[:,x:x+w] = nbh\n",
    "    c = c+1"
   ]
  },
  {
   "cell_type": "code",
   "execution_count": 9,
   "metadata": {},
   "outputs": [
    {
     "name": "stderr",
     "output_type": "stream",
     "text": [
      "C:\\Users\\clmvandenheuve\\Anaconda3\\envs\\tenv\\lib\\site-packages\\skimage\\util\\dtype.py:130: UserWarning: Possible precision loss when converting from float64 to uint16\n",
      "  .format(dtypeobj_in, dtypeobj_out))\n"
     ]
    },
    {
     "data": {
      "image/png": "[encoded data removed]",
      "text/plain": [
       "<Figure size 432x288 with 1 Axes>"
      ]
     },
     "metadata": {
      "needs_background": "light"
     },
     "output_type": "display_data"
    }
   ],
   "source": [
    "# save the image\n",
    "from skimage import img_as_ubyte\n",
    "pred_MEM = pred_MEM / np.max(pred_MEM)\n",
    "io.imshow(pred_MEM>0.5)\n",
    "io.imsave(os.path.join(well_folder, well+'_predicted.png'), pred_MEM)"
   ]
  },
  {
   "cell_type": "code",
   "execution_count": null,
   "metadata": {},
   "outputs": [],
   "source": []
  }
 ],
 "metadata": {
  "kernelspec": {
   "display_name": "Python 3",
   "language": "python",
   "name": "python3"
  },
  "language_info": {
   "codemirror_mode": {
    "name": "ipython",
    "version": 3
   },
   "file_extension": ".py",
   "mimetype": "text/x-python",
   "name": "python",
   "nbconvert_exporter": "python",
   "pygments_lexer": "ipython3",
   "version": "3.5.6"
  }
 },
 "nbformat": 4,
 "nbformat_minor": 4
}
