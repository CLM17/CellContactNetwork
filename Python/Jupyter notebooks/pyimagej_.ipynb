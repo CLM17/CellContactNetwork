{
 "cells": [
  {
   "cell_type": "code",
   "execution_count": 6,
   "metadata": {},
   "outputs": [
    {
     "ename": "ImportError",
     "evalue": "No module named 'imagej'",
     "output_type": "error",
     "traceback": [
      "\u001b[1;31m---------------------------------------------------------------------------\u001b[0m",
      "\u001b[1;31mImportError\u001b[0m                               Traceback (most recent call last)",
      "\u001b[1;32m<ipython-input-6-708a36daf542>\u001b[0m in \u001b[0;36m<module>\u001b[1;34m\u001b[0m\n\u001b[0;32m      9\u001b[0m \u001b[0mos\u001b[0m\u001b[1;33m.\u001b[0m\u001b[0mgetenv\u001b[0m\u001b[1;33m(\u001b[0m\u001b[1;34m\"PATH\"\u001b[0m\u001b[1;33m)\u001b[0m\u001b[1;33m\u001b[0m\u001b[0m\n\u001b[0;32m     10\u001b[0m \u001b[1;33m\u001b[0m\u001b[0m\n\u001b[1;32m---> 11\u001b[1;33m \u001b[1;32mimport\u001b[0m \u001b[0mimagej\u001b[0m\u001b[1;33m\u001b[0m\u001b[0m\n\u001b[0m",
      "\u001b[1;31mImportError\u001b[0m: No module named 'imagej'"
     ]
    }
   ],
   "source": [
    "import os\n",
    "\n",
    "os.environ[\"JAVA_HOME\"] = \"C:/Users/clmvandenheuve/Anaconda3/envs/ijenv/Library\"\n",
    "os.environ[\"PYJNIUS_JAR\"] = \"C:/Users/clmvandenheuve/Anaconda3/envs/ijenv/share/pyjnius/pyjnius.jar\"\n",
    "os.environ[\"PATH\"] = os.environ[\"PATH\"] +\":/anaconda3/opt/maven/bin\"\n",
    "\n",
    "os.getenv(\"JAVA_HOME\")\n",
    "os.getenv(\"PYJNIUS_JAR\")\n",
    "os.getenv(\"PATH\")\n",
    "\n",
    "import imagej"
   ]
  },
  {
   "cell_type": "code",
   "execution_count": 11,
   "metadata": {},
   "outputs": [
    {
     "ename": "ImportError",
     "evalue": "No module named 'pyimagej'",
     "output_type": "error",
     "traceback": [
      "\u001b[1;31m---------------------------------------------------------------------------\u001b[0m",
      "\u001b[1;31mImportError\u001b[0m                               Traceback (most recent call last)",
      "\u001b[1;32m<ipython-input-11-3539eb40755d>\u001b[0m in \u001b[0;36m<module>\u001b[1;34m\u001b[0m\n\u001b[0;32m      9\u001b[0m \u001b[0mos\u001b[0m\u001b[1;33m.\u001b[0m\u001b[0mgetenv\u001b[0m\u001b[1;33m(\u001b[0m\u001b[1;34m\"PATH\"\u001b[0m\u001b[1;33m)\u001b[0m\u001b[1;33m\u001b[0m\u001b[0m\n\u001b[0;32m     10\u001b[0m \u001b[1;33m\u001b[0m\u001b[0m\n\u001b[1;32m---> 11\u001b[1;33m \u001b[1;32mimport\u001b[0m \u001b[0mpyimagej\u001b[0m\u001b[1;33m\u001b[0m\u001b[0m\n\u001b[0m",
      "\u001b[1;31mImportError\u001b[0m: No module named 'pyimagej'"
     ]
    }
   ],
   "source": [
    "import sys\n",
    "import os\n",
    "\n",
    "os.environ['PYJNIUS_JAR'] = os.path.join(sys.prefix, \"share\", \"pyjnius\", \"pyjnius.jar\")\n",
    "os.environ['JAVA_HOME']  = sys.prefix\n",
    "\n",
    "os.getenv(\"JAVA_HOME\")\n",
    "os.getenv(\"PYJNIUS_JAR\")\n",
    "os.getenv(\"PATH\")\n",
    "\n",
    "import pyimagej"
   ]
  },
  {
   "cell_type": "code",
   "execution_count": 8,
   "metadata": {},
   "outputs": [
    {
     "data": {
      "text/plain": [
       "'C:\\\\Users\\\\clmvandenheuve\\\\Anaconda3\\\\envs\\\\tenv\\\\Library\\\\bin;C:\\\\Users\\\\clmvandenheuve\\\\Anaconda3\\\\envs\\\\ijenv\\\\Library\\\\jre\\\\bin\\\\server;C:\\\\Users\\\\clmvandenheuve\\\\Anaconda3\\\\envs\\\\ijenv\\\\Library\\\\bin\\\\server;C:\\\\Users\\\\clmvandenheuve\\\\Anaconda3\\\\envs\\\\ijenv\\\\Library\\\\bin;C:\\\\Users\\\\clmvandenheuve\\\\Anaconda3\\\\envs\\\\ijenv;C:\\\\Users\\\\clmvandenheuve\\\\Anaconda3\\\\envs\\\\ijenv\\\\Library\\\\mingw-w64\\\\bin;C:\\\\Users\\\\clmvandenheuve\\\\Anaconda3\\\\envs\\\\ijenv\\\\Library\\\\usr\\\\bin;C:\\\\Users\\\\clmvandenheuve\\\\Anaconda3\\\\envs\\\\ijenv\\\\Library\\\\bin;C:\\\\Users\\\\clmvandenheuve\\\\Anaconda3\\\\envs\\\\ijenv\\\\Scripts;C:\\\\Users\\\\clmvandenheuve\\\\Anaconda3\\\\envs\\\\ijenv\\\\bin;C:\\\\Users\\\\clmvandenheuve\\\\Anaconda3\\\\condabin;C:\\\\WINDOWS\\\\system32;C:\\\\WINDOWS;C:\\\\WINDOWS\\\\System32\\\\Wbem;C:\\\\WINDOWS\\\\System32\\\\WindowsPowerShell\\\\v1.0;C:\\\\WINDOWS\\\\System32\\\\OpenSSH;C:\\\\Program Files\\\\Microsoft Windows Performance Toolkit;C:\\\\Program Files (x86)\\\\Wolfram Research\\\\WolframScript;C:\\\\Program Files\\\\MATLAB\\\\R2019b\\\\runtime\\\\win64;C:\\\\Program Files\\\\MATLAB\\\\R2019b\\\\bin;C:\\\\Program Files\\\\PuTTY;C:\\\\Users\\\\clmvandenheuve\\\\AppData\\\\Local\\\\Microsoft\\\\WindowsApps;.:/anaconda3/opt/maven/bin'"
      ]
     },
     "execution_count": 8,
     "metadata": {},
     "output_type": "execute_result"
    }
   ],
   "source": [
    "os.getenv(\"PATH\")"
   ]
  },
  {
   "cell_type": "code",
   "execution_count": null,
   "metadata": {},
   "outputs": [],
   "source": []
  }
 ],
 "metadata": {
  "kernelspec": {
   "display_name": "Python 3",
   "language": "python",
   "name": "python3"
  },
  "language_info": {
   "codemirror_mode": {
    "name": "ipython",
    "version": 3
   },
   "file_extension": ".py",
   "mimetype": "text/x-python",
   "name": "python",
   "nbconvert_exporter": "python",
   "pygments_lexer": "ipython3",
   "version": "3.5.6"
  }
 },
 "nbformat": 4,
 "nbformat_minor": 4
}
